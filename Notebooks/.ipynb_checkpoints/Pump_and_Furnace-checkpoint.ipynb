{
 "cells": [
  {
   "cell_type": "code",
   "execution_count": null,
   "id": "ec61863e",
   "metadata": {},
   "outputs": [],
   "source": [
    "import pandas as pd\n",
    "import matplotlib.pyplot as plt\n",
    "import datetime\n",
    "from datetimerange import DateTimeRange"
   ]
  },
  {
   "cell_type": "code",
   "execution_count": null,
   "id": "39d7d6c6",
   "metadata": {},
   "outputs": [],
   "source": [
    "# Raw Data\n",
    "df = pd.read_csv(r'./Data/DAQ2A.csv')\n",
    "df"
   ]
  },
  {
   "cell_type": "code",
   "execution_count": null,
   "id": "dbbea700",
   "metadata": {},
   "outputs": [],
   "source": [
    "df1 = df.fillna(0)"
   ]
  },
  {
   "cell_type": "code",
   "execution_count": null,
   "id": "872246ef",
   "metadata": {},
   "outputs": [],
   "source": [
    "df1[\"Pump_Power\"] = df1['pump_current']*(240)*(0.62)\n",
    "df1[\"Furnace_Power\"] = df1['furnace_current']*df1['furnace_voltage']*(0.52)\n",
    "df1.head(30)"
   ]
  },
  {
   "cell_type": "code",
   "execution_count": null,
   "id": "c72cea5c",
   "metadata": {},
   "outputs": [],
   "source": [
    "# Change the time-series into datetime\n",
    "df1['updated_at'] = pd.to_datetime(df1['updated_at'])"
   ]
  },
  {
   "cell_type": "code",
   "execution_count": null,
   "id": "905e4eb6",
   "metadata": {},
   "outputs": [],
   "source": [
    "# Extracting the key features\n",
    "df2 = df1[['updated_at','stage_one_H_state','pump_current','furnace_current','Pump_Power','Furnace_Power']]"
   ]
  },
  {
   "cell_type": "code",
   "execution_count": null,
   "id": "692e6946",
   "metadata": {},
   "outputs": [],
   "source": [
    "# Filtering where the states are active (1).\n",
    "Pump_on = df2[(df2['pump_current'] > 0.0) & (df2['furnace_current'] == 0.0)] # Pump only\n",
    "Furnace_on = df2[(df2['furnace_current'] > 0.0) & (df2['pump_current'] == 0.0)] # Furnace only\n",
    "Pump_Furnace = df2[(df2['furnace_current'] > 0.0) & (df2['pump_current'] > 0.0)] # Overlap\n",
    "H1 = df2[(df2['stage_one_H_state'] == 1.0)]\n",
    "\n",
    "# NB: This doesn't equate to the complete dataset.\n",
    "count = len(Pump_on) + len(Furnace_on) + len(Pump_Furnace)\n",
    "count"
   ]
  },
  {
   "cell_type": "code",
   "execution_count": null,
   "id": "7142bd50",
   "metadata": {},
   "outputs": [],
   "source": [
    "# See the data from above: Pump_on, Furnace_on, Pump_Furnace and H1\n",
    "H1"
   ]
  },
  {
   "cell_type": "code",
   "execution_count": null,
   "id": "fb1eda12",
   "metadata": {},
   "outputs": [],
   "source": [
    "# Place data in time-ranges for TOU\n",
    "# The DAQ samples at every second (1 sec), so to get energy (kWh) it is E = 0.0002 x P\n",
    "# Choose the dataset: Pump_on, Furnace_on, Pump_Furnace and H1\n",
    "\n",
    "TOU = {\n",
    "    'T1': \"00:00:00+00:00\",\n",
    "    'T2': \"06:59:59+00:00\",\n",
    "    'T3': \"07:00:00+00:00\",\n",
    "    'T4': \"10:59:59+00:00\",\n",
    "    'T5': \"11:00:00+00:00\",\n",
    "    'T6': \"16:59:59+00:00\",\n",
    "    'T7': \"17:00:00+00:00\",\n",
    "    'T8': \"18:59:59+00:00\",\n",
    "    'T9': \"19:00:00+00:00\",\n",
    "    'T10': \"23:59:59+00:00\"\n",
    "}\n",
    "\n",
    "All_day = {'T1': \"00:00:00+00:00\", 'T2':\"23:59:59+00:00\"}\n",
    "\n",
    "# Initializing arrays for energy and defining the time range: 16 April 2021 - 23 April 2021\n",
    "time_range = DateTimeRange(\"2021-04-16\", \"2021-04-23\")\n",
    "E1_pump, E2_pump, E3_pump, E4_pump, E5_pump, All_pump  = ([] for i in range(6))\n",
    "E1_furnace, E2_furnace, E3_furnace, E4_furnace, E5_furnace, All_furnace = ([] for i in range(6)) \n",
    "dates = []\n",
    "\n",
    "for value in time_range.range(datetime.timedelta(days=1)):\n",
    "    dates.append(value)\n",
    "    \n",
    "    start_time = f\"{value} {TOU['T1']}\"\n",
    "    end_time = f\"{value} {TOU['T2']}\"\n",
    "    mask1 = (Pump_on['updated_at'] > start_time) & (Pump_on['updated_at'] <= end_time)\n",
    "    Table1 = Pump_on.loc[mask1]\n",
    "    E1_pump.append(((Table1.Pump_Power).sum())*0.0002)\n",
    "    E1_furnace.append(((Table1.Furnace_Power).sum())*0.0002)\n",
    "\n",
    "    start_time = f\"{value} {TOU['T3']}\"\n",
    "    end_time = f\"{value} {TOU['T4']}\"\n",
    "    mask2 = (Pump_on['updated_at'] > start_time) & (Pump_on['updated_at'] <= end_time)\n",
    "    Table2 = Pump_on.loc[mask2]\n",
    "    E2_pump.append(((Table2.Pump_Power).sum())*0.0002)\n",
    "    E2_furnace.append(((Table2.Furnace_Power).sum())*0.0002)\n",
    "\n",
    "    start_time = f\"{value} {TOU['T5']}\"\n",
    "    end_time = f\"{value} {TOU['T6']}\"\n",
    "    mask3 = (Pump_on['updated_at'] > start_time) & (Pump_on['updated_at'] <= end_time)\n",
    "    Table3 = Pump_on.loc[mask3]\n",
    "    E3_pump.append(((Table3.Pump_Power).sum())*0.0002)\n",
    "    E3_furnace.append(((Table3.Furnace_Power).sum())*0.0002)\n",
    "\n",
    "    start_time = f\"{value} {TOU['T7']}\"\n",
    "    end_time = f\"{value} {TOU['T8']}\"\n",
    "    mask4 = (Pump_on['updated_at'] > start_time) & (Pump_on['updated_at'] <= end_time)\n",
    "    Table4 = Pump_on.loc[mask4]\n",
    "    E4_pump.append(((Table4.Pump_Power).sum())*0.0002)\n",
    "    E4_furnace.append(((Table4.Furnace_Power).sum())*0.0002)\n",
    "\n",
    "    start_time = f\"{value} {TOU['T9']}\"\n",
    "    end_time = f\"{value} {TOU['T10']}\"\n",
    "    mask5 = (Pump_on['updated_at'] > start_time) & (Pump_on['updated_at'] <= end_time)\n",
    "    Table5 = Pump_on.loc[mask5]\n",
    "    E5_pump.append(((Table5.Pump_Power).sum())*0.0002)\n",
    "    E5_furnace.append(((Table5.Furnace_Power).sum())*0.0002)\n",
    "    \n",
    "    # For the whole day for the furnace and pump.\n",
    "    start_time = f\"{value} {All_day['T1']}\"\n",
    "    end_time = f\"{value} {All_day['T2']}\"\n",
    "    mask_all = (Pump_on['updated_at'] > start_time) & (Pump_on['updated_at'] <= end_time)\n",
    "    Table_all = Pump_on.loc[mask_all]\n",
    "    All_pump.append(((Table_all.Pump_Power).sum())*0.0002)\n",
    "    All_furnace.append(((Table_all.Furnace_Power).sum())*0.0002)\n"
   ]
  },
  {
   "cell_type": "code",
   "execution_count": null,
   "id": "fccb7939",
   "metadata": {},
   "outputs": [],
   "source": [
    "Energy_P1 = pd.DataFrame(data=E1_pump, index=dates, columns=[\"P1_Wh\"])\n",
    "Energy_P2 = pd.DataFrame(data=E2_pump, index=dates, columns=[\"P2_Wh\"])\n",
    "Energy_P3 = pd.DataFrame(data=E3_pump, index=dates, columns=[\"P3_Wh\"])\n",
    "Energy_P4 = pd.DataFrame(data=E4_pump, index=dates, columns=[\"P4_Wh\"])\n",
    "Energy_P5 = pd.DataFrame(data=E5_pump, index=dates, columns=[\"P5_Wh\"])\n",
    "\n",
    "Energy_F1 = pd.DataFrame(data=E1_furnace, index=dates, columns=[\"F1_Wh\"]) #Midnight-7am\n",
    "Energy_F2 = pd.DataFrame(data=E2_furnace, index=dates, columns=[\"F2_Wh\"]) #7am - 11am\n",
    "Energy_F3 = pd.DataFrame(data=E3_furnace, index=dates, columns=[\"F3_Wh\"]) #11am - 5pm\n",
    "Energy_F4 = pd.DataFrame(data=E4_furnace, index=dates, columns=[\"F4_Wh\"]) #5pm - 7pm\n",
    "Energy_F5 = pd.DataFrame(data=E5_furnace, index=dates, columns=[\"F5_Wh\"]) #7pm - Midnight\n",
    "\n",
    "Energy_Furnace = pd.DataFrame(data=All_furnace, index=dates, columns=[\"Furnace_Wh\"])\n",
    "Energy_Pump = pd.DataFrame(data=All_pump, index=dates, columns=[\"Pump_Wh\"])"
   ]
  },
  {
   "cell_type": "code",
   "execution_count": null,
   "id": "ebe315b2",
   "metadata": {},
   "outputs": [],
   "source": [
    "Energy_Pump"
   ]
  },
  {
   "cell_type": "code",
   "execution_count": null,
   "id": "b0b9046c",
   "metadata": {},
   "outputs": [],
   "source": []
  }
 ],
 "metadata": {
  "kernelspec": {
   "display_name": "Python 3",
   "language": "python",
   "name": "python3"
  },
  "language_info": {
   "codemirror_mode": {
    "name": "ipython",
    "version": 3
   },
   "file_extension": ".py",
   "mimetype": "text/x-python",
   "name": "python",
   "nbconvert_exporter": "python",
   "pygments_lexer": "ipython3",
   "version": "3.9.4"
  }
 },
 "nbformat": 4,
 "nbformat_minor": 5
}
